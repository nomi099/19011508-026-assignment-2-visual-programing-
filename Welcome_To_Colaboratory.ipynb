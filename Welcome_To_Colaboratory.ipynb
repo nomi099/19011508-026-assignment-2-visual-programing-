{
  "nbformat": 4,
  "nbformat_minor": 0,
  "metadata": {
    "colab": {
      "name": "Welcome To Colaboratory",
      "provenance": [],
      "collapsed_sections": [],
      "include_colab_link": true
    },
    "kernelspec": {
      "display_name": "Python 3",
      "name": "python3"
    }
  },
  "cells": [
    {
      "cell_type": "markdown",
      "metadata": {
        "id": "view-in-github",
        "colab_type": "text"
      },
      "source": [
        "<a href=\"https://colab.research.google.com/github/nomi099/19011508-026-assignment-2-visual-programing-/blob/main/Welcome_To_Colaboratory.ipynb\" target=\"_parent\"><img src=\"https://colab.research.google.com/assets/colab-badge.svg\" alt=\"Open In Colab\"/></a>"
      ]
    },
    {
      "cell_type": "code",
      "metadata": {
        "id": "LlDqvrlPl974",
        "outputId": "3993f833-dd5e-4a53-e8aa-f6f84ce160ed",
        "colab": {
          "base_uri": "https://localhost:8080/"
        }
      },
      "source": [
        " \n",
        "from math import pi\n",
        "nouman = float(input (\"the radius: \"))\n",
        "print (\"The area \" + str(nouman) + \" is: \" + str(pi * nouman**2))"
      ],
      "execution_count": 1,
      "outputs": [
        {
          "output_type": "stream",
          "text": [
            "the radius: 23\n",
            "The area 23.0 is: 1661.9025137490005\n"
          ],
          "name": "stdout"
        }
      ]
    },
    {
      "cell_type": "code",
      "metadata": {
        "id": "VVTpTLFqmcBK",
        "outputId": "d7492ca1-b84a-4515-f9d0-3081c9f3474c",
        "colab": {
          "base_uri": "https://localhost:8080/"
        }
      },
      "source": [
        " \n",
        "nomi = input(\"Input some comma seprated numbers : \")\n",
        "list = nomi.split(\",\")\n",
        "tuple = tuple(list)\n",
        "print('List : ',list)\n",
        "print('Tuple : ',tuple)"
      ],
      "execution_count": 2,
      "outputs": [
        {
          "output_type": "stream",
          "text": [
            "Input some comma seprated numbers : 6,7,8\n",
            "List :  ['6', '7', '8']\n",
            "Tuple :  ('6', '7', '8')\n"
          ],
          "name": "stdout"
        }
      ]
    },
    {
      "cell_type": "code",
      "metadata": {
        "id": "ZpHJxJMPmkw3",
        "outputId": "8ab67e27-cea3-411e-f97a-f063c3e145d8",
        "colab": {
          "base_uri": "https://localhost:8080/"
        }
      },
      "source": [
        " \n",
        "def nomi(d):\n",
        "  if len(d) == len(set(d)):\n",
        "    return True\n",
        "  else:\n",
        "    return False;\n",
        "print(nomi([1,5,7,9]))\n",
        "print(nomi([2,4,8,8]))"
      ],
      "execution_count": 5,
      "outputs": [
        {
          "output_type": "stream",
          "text": [
            "True\n",
            "False\n"
          ],
          "name": "stdout"
        }
      ]
    },
    {
      "cell_type": "code",
      "metadata": {
        "id": "aBqitEw5nJaO",
        "outputId": "be26c6df-e7d2-4204-e004-a2cdb7b4557d",
        "colab": {
          "base_uri": "https://localhost:8080/"
        }
      },
      "source": [
        " \n",
        "def remove_nums(int_list):\n",
        "  #list starts with 0 index\n",
        "  position = 3 - 1 \n",
        "  idx = 0\n",
        "  len_list = (len(int_list))\n",
        "  while len_list>0:\n",
        "    idx = (position+idx)%len_list\n",
        "    print(int_list.pop(idx))\n",
        "    len_list -= 1\n",
        "nums = [180,200,300,480,900]\n",
        "remove_nums(nums)"
      ],
      "execution_count": 7,
      "outputs": [
        {
          "output_type": "stream",
          "text": [
            "300\n",
            "180\n",
            "900\n",
            "200\n",
            "480\n"
          ],
          "name": "stdout"
        }
      ]
    }
  ]
}